{
  "nbformat": 4,
  "nbformat_minor": 0,
  "metadata": {
    "colab": {
      "name": "Sentiment_Analysis_Final_code",
      "provenance": [],
      "collapsed_sections": [],
      "authorship_tag": "ABX9TyP8PJm8I1JR/C1fyvoclUwN",
      "include_colab_link": true
    },
    "kernelspec": {
      "name": "python3",
      "display_name": "Python 3"
    },
    "language_info": {
      "name": "python"
    }
  },
  "cells": [
    {
      "cell_type": "markdown",
      "metadata": {
        "id": "view-in-github",
        "colab_type": "text"
      },
      "source": [
        "<a href=\"https://colab.research.google.com/github/josevlal/CapstoneF21_MovieReviewClassification/blob/main/Sentiment_Analysis_Final_code.ipynb\" target=\"_parent\"><img src=\"https://colab.research.google.com/assets/colab-badge.svg\" alt=\"Open In Colab\"/></a>"
      ]
    },
    {
      "cell_type": "code",
      "metadata": {
        "colab": {
          "base_uri": "https://localhost:8080/"
        },
        "id": "YxL3K2gj0pXg",
        "outputId": "17ac91dd-df92-4b7f-a33f-f483e4281930"
      },
      "source": [
        "from numpy.lib.utils import info\n",
        "import pandas as pd\n",
        "import numpy as np\n",
        "import csv\n",
        "from sklearn.feature_extraction import text\n",
        "from sklearn.feature_extraction.text import TfidfVectorizer\n",
        "from sklearn.feature_extraction.text import CountVectorizer\n",
        "from yellowbrick.text import FreqDistVisualizer\n",
        "from yellowbrick.text import freqdist\n",
        "from yellowbrick.datasets import load_hobbies\n",
        "from nltk.tokenize import RegexpTokenizer\n",
        "from sklearn.model_selection import train_test_split\n",
        "from sklearn.naive_bayes import MultinomialNB\n",
        "from sklearn import metrics\n",
        "from sklearn.metrics import confusion_matrix, ConfusionMatrixDisplay, classification_report\n",
        "import seaborn as sns\n",
        "import matplotlib.pyplot as plt\n",
        "from sklearn.tree import DecisionTreeClassifier\n",
        "\n",
        "\n",
        "# Load the text data\n",
        "df = pd.read_csv(\"IMDB Dataset.csv\")\n",
        "\n",
        "print(df.head())\n",
        "\n",
        "#Total number of positive and negative sentiments reviews in the dataset:\n",
        "print(df.sentiment.value_counts())"
      ],
      "execution_count": 5,
      "outputs": [
        {
          "output_type": "stream",
          "name": "stdout",
          "text": [
            "                                              review sentiment\n",
            "0  One of the other reviewers has mentioned that ...  positive\n",
            "1  A wonderful little production. <br /><br />The...  positive\n",
            "2  I thought this was a wonderful way to spend ti...  positive\n",
            "3  Basically there's a family where a little boy ...  negative\n",
            "4  Petter Mattei's \"Love in the Time of Money\" is...  positive\n",
            "negative    25000\n",
            "positive    25000\n",
            "Name: sentiment, dtype: int64\n"
          ]
        }
      ]
    },
    {
      "cell_type": "code",
      "metadata": {
        "colab": {
          "base_uri": "https://localhost:8080/"
        },
        "id": "0nOjl_0w0uwO",
        "outputId": "ef9817e6-e5cf-4ee7-a491-252f49cbba9a"
      },
      "source": [
        "#--------------------Pre-processing--------------------#\n",
        "\n",
        "#Make lowercase\n",
        "df['new_review'] = df['review'].apply(lambda x: \" \".join(x.lower() for x in x.split()))\n",
        "\n",
        "#Remove the line break character from text\n",
        "df['new_review'] = df['new_review'].str.replace(\"<br />\",'')\n",
        "\n",
        "#Remove other characters\n",
        "df['new_review'] = df['new_review'].str.replace('[^\\w\\s]','')\n",
        "\n",
        "#Pre-processed data:\n",
        "print(df.head())"
      ],
      "execution_count": 6,
      "outputs": [
        {
          "output_type": "stream",
          "name": "stdout",
          "text": [
            "                                              review  ...                                         new_review\n",
            "0  One of the other reviewers has mentioned that ...  ...  one of the other reviewers has mentioned that ...\n",
            "1  A wonderful little production. <br /><br />The...  ...  a wonderful little production the filming tech...\n",
            "2  I thought this was a wonderful way to spend ti...  ...  i thought this was a wonderful way to spend ti...\n",
            "3  Basically there's a family where a little boy ...  ...  basically theres a family where a little boy j...\n",
            "4  Petter Mattei's \"Love in the Time of Money\" is...  ...  petter matteis love in the time of money is a ...\n",
            "\n",
            "[5 rows x 3 columns]\n"
          ]
        }
      ]
    },
    {
      "cell_type": "code",
      "metadata": {
        "colab": {
          "base_uri": "https://localhost:8080/"
        },
        "id": "G7_ju2Fb0y5j",
        "outputId": "6519d7fb-cf66-4c6e-bfe4-9f7ff9938e00"
      },
      "source": [
        "#--------------------Text-Cleaning--------------------#\n",
        "\n",
        "#Remove numbers\n",
        "df['new_review'] = df['new_review'].str.replace('\\d+','', regex = True)\n",
        "df['new_review'] = df['new_review'].str.replace('_', '')\n",
        "\n",
        "print(df.head())"
      ],
      "execution_count": 7,
      "outputs": [
        {
          "output_type": "stream",
          "name": "stdout",
          "text": [
            "                                              review  ...                                         new_review\n",
            "0  One of the other reviewers has mentioned that ...  ...  one of the other reviewers has mentioned that ...\n",
            "1  A wonderful little production. <br /><br />The...  ...  a wonderful little production the filming tech...\n",
            "2  I thought this was a wonderful way to spend ti...  ...  i thought this was a wonderful way to spend ti...\n",
            "3  Basically there's a family where a little boy ...  ...  basically theres a family where a little boy j...\n",
            "4  Petter Mattei's \"Love in the Time of Money\" is...  ...  petter matteis love in the time of money is a ...\n",
            "\n",
            "[5 rows x 3 columns]\n"
          ]
        }
      ]
    },
    {
      "cell_type": "code",
      "metadata": {
        "colab": {
          "base_uri": "https://localhost:8080/"
        },
        "id": "Tq6HxXVz01Nm",
        "outputId": "16b22449-376d-469e-e7cc-025b4fbc298d"
      },
      "source": [
        "#--------------------Tokens--------------------#\n",
        "\n",
        "vectorizer = CountVectorizer(stop_words='english')\n",
        "\n",
        "df_neg = df[df['sentiment'] == \"negative\"]\n",
        "\n",
        "df_pos = df[df['sentiment'] == \"positive\"]\n",
        "\n",
        "docs_n      = vectorizer.fit_transform(df_neg['new_review'])\n",
        "features   = vectorizer.get_feature_names()\n",
        "\n",
        "tokens_n = pd.DataFrame({'features': features})\n",
        "\n",
        "docs_p      = vectorizer.fit_transform(df_pos['new_review'])\n",
        "features   = vectorizer.get_feature_names()\n",
        "\n",
        "tokens_p = pd.DataFrame({'features': features})\n",
        "\n",
        "df_new = pd.DataFrame({'Overlap_tokens': list(set(tokens_n.features) & set(tokens_p.features))})\n",
        "\n",
        "#Tokens Summarized:\n",
        "print(tokens_p)\n",
        "print(tokens_n)\n",
        "print(df_new)"
      ],
      "execution_count": 8,
      "outputs": [
        {
          "output_type": "stream",
          "name": "stderr",
          "text": [
            "/usr/local/lib/python3.7/dist-packages/sklearn/utils/deprecation.py:87: FutureWarning: Function get_feature_names is deprecated; get_feature_names is deprecated in 1.0 and will be removed in 1.2. Please use get_feature_names_out instead.\n",
            "  warnings.warn(msg, category=FutureWarning)\n"
          ]
        },
        {
          "output_type": "stream",
          "name": "stdout",
          "text": [
            "           features\n",
            "0                aa\n",
            "1               aaa\n",
            "2       aaaaaaaargh\n",
            "3           aaaaagh\n",
            "4       aaaaatchkah\n",
            "...             ...\n",
            "137565     übervamp\n",
            "137566         ünel\n",
            "137567   ünfaithful\n",
            "137568           ýs\n",
            "137569          þór\n",
            "\n",
            "[137570 rows x 1 columns]\n",
            "                          features\n",
            "0                               aa\n",
            "1                              aaa\n",
            "2       aaaaaaaaaaaahhhhhhhhhhhhhh\n",
            "3                         aaaaaaah\n",
            "4                 aaaaaaahhhhhhggg\n",
            "...                            ...\n",
            "133992                  üvegtigris\n",
            "133993                      üzümcü\n",
            "133994                 þorleifsson\n",
            "133995                        יגאל\n",
            "133996                       כרמון\n",
            "\n",
            "[133997 rows x 1 columns]\n",
            "      Overlap_tokens\n",
            "0              icons\n",
            "1       dramaanother\n",
            "2             shiner\n",
            "3                wht\n",
            "4            spiders\n",
            "...              ...\n",
            "57022          dense\n",
            "57023         thelma\n",
            "57024    predictable\n",
            "57025      repertory\n",
            "57026     wodehouses\n",
            "\n",
            "[57027 rows x 1 columns]\n"
          ]
        }
      ]
    },
    {
      "cell_type": "code",
      "metadata": {
        "id": "Tv-fSXjdWvYi",
        "colab": {
          "base_uri": "https://localhost:8080/"
        },
        "outputId": "65688c6c-9806-41ab-d020-4a422ae7ac70"
      },
      "source": [
        "#--------------------Multinomial_Naive_Bayes--------------------#\n",
        "#tokenized similar to above, for the bag of words upto bigrams are considered\n",
        "\n",
        "tokens = RegexpTokenizer('[a-zA-Z0-9]+')\n",
        "token_doc = CountVectorizer(stop_words='english', ngram_range=(2,2), tokenizer=tokens.tokenize)\n",
        "token_count = token_doc.fit_transform(df['new_review'])\n",
        "\n",
        "#--------------------Train_Test_split--------------------#\n",
        "\n",
        "X_train, X_test, Y_train, Y_test = train_test_split(token_count, df['sentiment'], test_size = 0.20, random_state=5)\n",
        "\n",
        "#--------------------Fitting_the_model--------------------#\n",
        "\n",
        "MNB = MultinomialNB()\n",
        "MNB.fit(X_train, Y_train)\n",
        "\n",
        "#--------------------Evalutating_the_model--------------------#\n",
        "\n",
        "predicted = MNB.predict(X_test)\n",
        "accuracy_score = metrics.accuracy_score(predicted, Y_test)\n",
        "\n",
        "conf_mat = confusion_matrix(y_true=Y_test, y_pred=predicted)\n",
        "\n",
        "#Confusion Matrix\n",
        "print(conf_mat)\n",
        "\n",
        "#Accuracy\n",
        "print(\"Accuracy:\", str('{:04.2f}'.format(accuracy_score*100))+'%')"
      ],
      "execution_count": 9,
      "outputs": [
        {
          "output_type": "stream",
          "name": "stdout",
          "text": [
            "[[4443  457]\n",
            " [ 860 4240]]\n",
            "Accuracy: 86.83%\n"
          ]
        }
      ]
    },
    {
      "cell_type": "code",
      "metadata": {
        "colab": {
          "base_uri": "https://localhost:8080/"
        },
        "id": "3RCb51cnLOpz",
        "outputId": "0a344838-8808-4632-a3e5-b689ed92049a"
      },
      "source": [
        "#--------------------K Fold Cross Validation--------------------#\n",
        "\n",
        "from sklearn.model_selection import cross_val_score\n",
        "cross_val_score(MNB, X_train, Y_train, cv = 10)"
      ],
      "execution_count": 15,
      "outputs": [
        {
          "output_type": "execute_result",
          "data": {
            "text/plain": [
              "array([0.864  , 0.8655 , 0.8605 , 0.86125, 0.86125, 0.86825, 0.87025,\n",
              "       0.8615 , 0.86325, 0.873  ])"
            ]
          },
          "metadata": {},
          "execution_count": 15
        }
      ]
    },
    {
      "cell_type": "code",
      "metadata": {
        "colab": {
          "base_uri": "https://localhost:8080/"
        },
        "id": "kOsASUjcWv71",
        "outputId": "cf2284e2-a48e-4a34-e86f-83f3d99ff3ae"
      },
      "source": [
        "#--------------Decision_Tree_Model---------------#\n",
        "\n",
        "X_train, X_test, Y_train, Y_test = train_test_split(token_count, df['sentiment'], test_size = 0.20, random_state=5)\n",
        "\n",
        "classifier = DecisionTreeClassifier()\n",
        "classifier.fit(X_train, Y_train)\n",
        "predicted = classifier.predict(X_test)\n",
        "\n",
        "print(confusion_matrix(Y_test, predicted))\n",
        "print(classification_report(Y_test, predicted))\n"
      ],
      "execution_count": null,
      "outputs": [
        {
          "output_type": "stream",
          "name": "stdout",
          "text": [
            "[[3507 1393]\n",
            " [1283 3817]]\n",
            "              precision    recall  f1-score   support\n",
            "\n",
            "    negative       0.73      0.72      0.72      4900\n",
            "    positive       0.73      0.75      0.74      5100\n",
            "\n",
            "    accuracy                           0.73     10000\n",
            "   macro avg       0.73      0.73      0.73     10000\n",
            "weighted avg       0.73      0.73      0.73     10000\n",
            "\n"
          ]
        }
      ]
    }
  ]
}